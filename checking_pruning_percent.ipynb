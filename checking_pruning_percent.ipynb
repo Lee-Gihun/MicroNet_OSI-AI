{
 "cells": [
  {
   "cell_type": "markdown",
   "metadata": {},
   "source": [
    "# Checking pruning percent\n",
    "\n",
    "This jupyter notebook is for double checking our result's pruning percent."
   ]
  },
  {
   "cell_type": "code",
   "execution_count": 1,
   "metadata": {},
   "outputs": [],
   "source": [
    "import torch\n",
    "import numpy as np\n",
    "import matplotlib.pyplot as plt\n",
    "%matplotlib inline"
   ]
  },
  {
   "cell_type": "code",
   "execution_count": 2,
   "metadata": {},
   "outputs": [],
   "source": [
    "fpath = './results/trained_models/baseline_seed_1111_already_50_iterative_sparsity_60.00/trained_model.pth'\n",
    "model = torch.load(fpath)\n",
    "#model"
   ]
  },
  {
   "cell_type": "code",
   "execution_count": 3,
   "metadata": {
    "scrolled": true
   },
   "outputs": [
    {
     "name": "stdout",
     "output_type": "stream",
     "text": [
      "60.0\n"
     ]
    }
   ],
   "source": [
    "all_weights = []\n",
    "\n",
    "for m, w in model.items():\n",
    "    # This captuers only fully_connected and convolution\n",
    "    if 'weight' in m and 'bn' not in m:\n",
    "        for v in w.view(-1,):\n",
    "            all_weights.append(abs(v.cpu().numpy()))\n",
    "            \n",
    "print(round(np.sum(np.array(all_weights) == 0) / len(all_weights) * 100, 1))"
   ]
  },
  {
   "cell_type": "markdown",
   "metadata": {},
   "source": [
    " "
   ]
  }
 ],
 "metadata": {
  "kernelspec": {
   "display_name": "Python 3",
   "language": "python",
   "name": "python3"
  },
  "language_info": {
   "codemirror_mode": {
    "name": "ipython",
    "version": 3
   },
   "file_extension": ".py",
   "mimetype": "text/x-python",
   "name": "python",
   "nbconvert_exporter": "python",
   "pygments_lexer": "ipython3",
   "version": "3.7.3"
  }
 },
 "nbformat": 4,
 "nbformat_minor": 2
}
